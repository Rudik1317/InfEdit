{
 "cells": [
  {
   "cell_type": "code",
   "execution_count": null,
   "id": "746bd52f-933b-4a86-851a-4734640fc5f0",
   "metadata": {
    "scrolled": true
   },
   "outputs": [],
   "source": [
    "import torch\n",
    "import time\n",
    "import random\n",
    "\n",
    "\n",
    "# Бесконечный цикл с матричными операциями\n",
    "while True:\n",
    "    numb = 1024*3\n",
    "    x = torch.randn(numb, numb, device='cuda')\n",
    "    y = torch.randn(numb, numb, device='cuda')\n",
    "    z = x @ y  # Матричное умножение\n",
    "    torch.cuda.synchronize()  # Гарантированная нагрузка\n",
    "    time.sleep(0.01)  # Не перегревать GPU"
   ]
  },
  {
   "cell_type": "code",
   "execution_count": null,
   "id": "4bef9321-7140-4c4f-b983-e07f076ce6d0",
   "metadata": {},
   "outputs": [],
   "source": []
  }
 ],
 "metadata": {
  "kernelspec": {
   "display_name": "Python (rudenkovInfEdit)",
   "language": "python",
   "name": "rudenkovinfedit"
  },
  "language_info": {
   "codemirror_mode": {
    "name": "ipython",
    "version": 3
   },
   "file_extension": ".py",
   "mimetype": "text/x-python",
   "name": "python",
   "nbconvert_exporter": "python",
   "pygments_lexer": "ipython3",
   "version": "3.9.20"
  },
  "widgets": {
   "application/vnd.jupyter.widget-state+json": {
    "state": {},
    "version_major": 2,
    "version_minor": 0
   }
  }
 },
 "nbformat": 4,
 "nbformat_minor": 5
}
