{
 "cells": [
  {
   "cell_type": "code",
   "execution_count": 1,
   "id": "1a614709-f1f7-4f1a-b263-4962f0d28ce9",
   "metadata": {},
   "outputs": [],
   "source": [
    "import utils"
   ]
  },
  {
   "cell_type": "code",
   "execution_count": 2,
   "id": "4538eade-8bf5-4dcd-9c87-07f8e38d7a49",
   "metadata": {},
   "outputs": [
    {
     "data": {
      "text/plain": [
       "10000000000"
      ]
     },
     "execution_count": 2,
     "metadata": {},
     "output_type": "execute_result"
    }
   ],
   "source": [
    "utils.func_to_check_reload_import_in_ipynb(10)"
   ]
  },
  {
   "cell_type": "code",
   "execution_count": 3,
   "id": "bb409721-4698-4b9b-bea1-2c8e3a2a20f3",
   "metadata": {},
   "outputs": [
    {
     "data": {
      "text/plain": [
       "10000000000"
      ]
     },
     "execution_count": 3,
     "metadata": {},
     "output_type": "execute_result"
    }
   ],
   "source": [
    "# поменял код\n",
    "utils.func_to_check_reload_import_in_ipynb(10)"
   ]
  },
  {
   "cell_type": "code",
   "execution_count": 4,
   "id": "720cebe2-74d9-4780-b4bc-4b01bfa6f2d2",
   "metadata": {},
   "outputs": [
    {
     "data": {
      "text/plain": [
       "100"
      ]
     },
     "execution_count": 4,
     "metadata": {},
     "output_type": "execute_result"
    }
   ],
   "source": [
    "# проверим импорт либ\n",
    "import importlib\n",
    "importlib.reload(utils) \n",
    "utils.func_to_check_reload_import_in_ipynb(10)"
   ]
  },
  {
   "cell_type": "code",
   "execution_count": 5,
   "id": "4367d9f5-8afc-4f6f-b5b6-819fd9c41d2f",
   "metadata": {},
   "outputs": [
    {
     "data": {
      "text/plain": [
       "100"
      ]
     },
     "execution_count": 5,
     "metadata": {},
     "output_type": "execute_result"
    }
   ],
   "source": [
    "# поменял код\n",
    "utils.func_to_check_reload_import_in_ipynb(10)"
   ]
  },
  {
   "cell_type": "code",
   "execution_count": 7,
   "id": "ddab5238-1ea8-4f87-b6b1-aa4525cb9848",
   "metadata": {},
   "outputs": [],
   "source": [
    "# проверка авторелоуда\n",
    "%load_ext autoreload\n",
    "%autoreload 2"
   ]
  },
  {
   "cell_type": "code",
   "execution_count": 9,
   "id": "a0a8765e-385a-4377-85c9-bb0de3930b5c",
   "metadata": {},
   "outputs": [
    {
     "data": {
      "text/plain": [
       "20"
      ]
     },
     "execution_count": 9,
     "metadata": {},
     "output_type": "execute_result"
    }
   ],
   "source": [
    "utils.func_to_check_reload_import_in_ipynb(10)"
   ]
  },
  {
   "cell_type": "code",
   "execution_count": 10,
   "id": "4010291a-d6e9-45df-9932-a7336f4a6ff7",
   "metadata": {},
   "outputs": [
    {
     "data": {
      "text/plain": [
       "0"
      ]
     },
     "execution_count": 10,
     "metadata": {},
     "output_type": "execute_result"
    }
   ],
   "source": [
    "utils.func_to_check_reload_import_in_ipynb(10)"
   ]
  },
  {
   "cell_type": "code",
   "execution_count": null,
   "id": "03ccb344-8cc4-4709-a69e-e53abdf12de1",
   "metadata": {},
   "outputs": [],
   "source": []
  }
 ],
 "metadata": {
  "kernelspec": {
   "display_name": "Python 3 (ipykernel)",
   "language": "python",
   "name": "python3"
  },
  "language_info": {
   "codemirror_mode": {
    "name": "ipython",
    "version": 3
   },
   "file_extension": ".py",
   "mimetype": "text/x-python",
   "name": "python",
   "nbconvert_exporter": "python",
   "pygments_lexer": "ipython3",
   "version": "3.9.20"
  },
  "widgets": {
   "application/vnd.jupyter.widget-state+json": {
    "state": {},
    "version_major": 2,
    "version_minor": 0
   }
  }
 },
 "nbformat": 4,
 "nbformat_minor": 5
}
